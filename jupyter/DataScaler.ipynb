{
 "cells": [
  {
   "cell_type": "code",
   "execution_count": 13,
   "metadata": {},
   "outputs": [],
   "source": [
    "# Shhhhhhh......\n",
    "import warnings\n",
    "warnings.filterwarnings('ignore')\n",
    "import os\n",
    "os.environ['TF_CPP_MIN_LOG_LEVEL'] = '3' "
   ]
  },
  {
   "cell_type": "code",
   "execution_count": 14,
   "metadata": {},
   "outputs": [],
   "source": [
    "# Config Variables\n",
    "# We'll do one at a time for now instead of just looping through mongoDB for all of them.\n",
    "company = \"GOOG\"\n",
    "\n",
    "# What is the size of the rolling window that decides what 0 and 1 represents? \n",
    "days = 30"
   ]
  },
  {
   "cell_type": "code",
   "execution_count": 15,
   "metadata": {},
   "outputs": [],
   "source": [
    "# Get data from mongoDB\n",
    "import ezmongo\n",
    "df = ezmongo.get_data(company,\"train\")"
   ]
  },
  {
   "cell_type": "code",
   "execution_count": 19,
   "metadata": {},
   "outputs": [],
   "source": [
    "new_column_order = ['Date', 'Adj Close', 'Close', 'High', 'Low', 'Open','Volume', 'BuyOrSell']\n",
    "df=df.reindex(columns=new_column_order)"
   ]
  },
  {
   "cell_type": "code",
   "execution_count": 21,
   "metadata": {},
   "outputs": [],
   "source": [
    "# We're going to set the index to date because the .rolling will try to roll over that too!\n",
    "# And bug out because you can't apply a rolling window over dates\n",
    "# Also yes, I'm recycling the variable name 'df' but it's to save on memory!\n",
    "# No it's not. I'm just too lazy.\n",
    "df = df.set_index('Date')"
   ]
  },
  {
   "cell_type": "code",
   "execution_count": 22,
   "metadata": {},
   "outputs": [],
   "source": [
    "def scaling_func(x):\n",
    "    me_max = max(x)\n",
    "    me_min = min(x)\n",
    "    \n",
    "    # Worked with dan on this part. This scales it as needed \n",
    "    index_of_last_element = len(x)-1\n",
    "    where_im_at = x[index_of_last_element]\n",
    "    return (where_im_at - me_min) / (me_max - me_min)\n",
    "\n",
    "rolled = df.rolling(days).apply(scaling_func)\n",
    "rolled.dropna(inplace=True)\n",
    "rolled.reset_index(inplace=True)"
   ]
  },
  {
   "cell_type": "code",
   "execution_count": 25,
   "metadata": {},
   "outputs": [
    {
     "data": {
      "text/plain": [
       "True"
      ]
     },
     "execution_count": 25,
     "metadata": {},
     "output_type": "execute_result"
    }
   ],
   "source": [
    "#Save to mongoDB\n",
    "\n",
    "ezmongo.set_data(rolled, 'GOOG', 'final')"
   ]
  },
  {
   "cell_type": "code",
   "execution_count": null,
   "metadata": {},
   "outputs": [],
   "source": []
  }
 ],
 "metadata": {
  "kernelspec": {
   "display_name": "Python 3",
   "language": "python",
   "name": "python3"
  },
  "language_info": {
   "codemirror_mode": {
    "name": "ipython",
    "version": 3
   },
   "file_extension": ".py",
   "mimetype": "text/x-python",
   "name": "python",
   "nbconvert_exporter": "python",
   "pygments_lexer": "ipython3",
   "version": "3.6.8"
  }
 },
 "nbformat": 4,
 "nbformat_minor": 2
}
